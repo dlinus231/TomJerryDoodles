{
 "cells": [
  {
   "cell_type": "code",
   "execution_count": 1,
   "metadata": {},
   "outputs": [],
   "source": [
    "import numpy as np\n",
    "import matplotlib.pylab as plt\n",
    "import tensorflow as tf\n",
    "from tensorflow import keras\n",
    "from tensorflow.keras.models import Sequential, Model\n",
    "from tensorflow.keras.layers import Dense, Dropout, Flatten, Reshape\n",
    "from tensorflow.keras.layers import Conv2D, MaxPooling2D, LeakyReLU\n",
    "from tensorflow.keras import layers, losses\n",
    "from tensorflow.keras.optimizers import Adam\n",
    "import os\n",
    "from tensorflow.keras.preprocessing.image import ImageDataGenerator\n",
    "from enum import Enum\n",
    "import PIL\n",
    "import PIL.Image\n",
    "import matplotlib.pyplot as plt\n",
    "from tensorflow.keras.callbacks import EarlyStopping \n",
    "from PIL import Image\n",
    "import random"
   ]
  },
  {
   "cell_type": "code",
   "execution_count": 2,
   "metadata": {},
   "outputs": [],
   "source": [
    "cnn = Sequential()\n",
    "cnn.add(Conv2D(16, (3, 3), activation='relu', input_shape=(70, 140, 1)))\n",
    "cnn.add(MaxPooling2D((2, 2)))\n",
    "cnn.add(Conv2D(32, (3, 3), activation='relu'))\n",
    "cnn.add(MaxPooling2D((2, 2)))\n",
    "cnn.add(Conv2D(64, (3, 3), activation='relu'))\n",
    "cnn.add(Flatten())\n",
    "cnn.add(Dense(64, activation='relu'))\n",
    "cnn.add(Dense(70 * 140, activation='sigmoid'))\n",
    "cnn.add(Reshape((70, 140)))"
   ]
  },
  {
   "cell_type": "code",
   "execution_count": 3,
   "metadata": {},
   "outputs": [],
   "source": [
    "class AutoencoderWithDense(Model):\n",
    "    def __init__(self, latent_dim, dropout_rate=0.2):\n",
    "        super(AutoencoderWithDense, self).__init__()\n",
    "        self.latent_dim = latent_dim   \n",
    "        self.encoder = tf.keras.Sequential([\n",
    "            layers.Flatten(),\n",
    "            layers.Dense(1024, activation=\"relu\"), # Added Dense\n",
    "            layers.Dropout(dropout_rate), \n",
    "            layers.Dense(512, activation=\"relu\"), # Added Dense\n",
    "            layers.Dropout(dropout_rate), \n",
    "            layers.Dense(latent_dim, activation='relu'),\n",
    "            ])\n",
    "        self.decoder = tf.keras.Sequential([\n",
    "\n",
    "            layers.Dense(512, activation=\"relu\"), # Added Dense\n",
    "            layers.Dropout(dropout_rate), \n",
    "            layers.Dense(1024, activation=\"relu\"), # Added Dense\n",
    "            layers.Dropout(dropout_rate), \n",
    "            layers.Dense(50 * 100, activation='sigmoid'),\n",
    "            layers.Reshape((50, 100)) # is reversed from other functions\n",
    "            # layers.Reshape((100, 200)) # is reversed from other functions\n",
    "            ])\n",
    "\n",
    "    def call(self, x):\n",
    "        encoded = self.encoder(x)\n",
    "        decoded = self.decoder(encoded)\n",
    "        return decoded"
   ]
  },
  {
   "cell_type": "code",
   "execution_count": 4,
   "metadata": {},
   "outputs": [],
   "source": [
    "autoencoder_with_dense = AutoencoderWithDense(latent_dim = 250)\n",
    "autoencoder_with_dense.build(input_shape=(None, 50, 100, 1))"
   ]
  },
  {
   "cell_type": "code",
   "execution_count": 5,
   "metadata": {},
   "outputs": [],
   "source": [
    "cnn.load_weights('/Users/miranyildirim/Desktop/DIS/Neural/final/TomJerryDoodles/src/SavedModels/CNN.keras')\n",
    "autoencoder_with_dense.load_weights('/Users/miranyildirim/Desktop/DIS/Neural/final/TomJerryDoodles/src/SavedModels/DenseModel.keras')"
   ]
  },
  {
   "cell_type": "code",
   "execution_count": 6,
   "metadata": {},
   "outputs": [
    {
     "name": "stdout",
     "output_type": "stream",
     "text": [
      "Working Directory: /Users/miranyildirim/Desktop/DIS/Neural/final\n"
     ]
    }
   ],
   "source": [
    "os.chdir('/Users/miranyildirim/Desktop/DIS/Neural/final')\n",
    "print(\"Working Directory:\", os.getcwd())\n",
    "# directories containing desired output, i.e. our y-labels, the ground truth \n",
    "outputDirectories = [\"TomJerryDoodles/images_to_display/jerry\", \n",
    "                     \"TomJerryDoodles/images_to_display/tom\",]\n",
    "                    #  \"archive/tom_and_jerry/tom_and_jerry/tom_jerry_0\",\n",
    "                     #\"TomJerryDoodles/archive/tom_and_jerry/tom_and_jerry/tom_jerry_1\"]\n",
    "\n",
    "# directories containing edge-filtered images\n",
    "inputDirectories = [\"TomJerryDoodles/images_to_display/jerry edge detected\", \n",
    "                    \"TomJerryDoodles/images_to_display/tom edge detected\",] \n",
    "                    # \"archive/tom_and_jerry/tom_and_jerry_edge_detected/tom_jerry_0_edge_detected\",\n",
    "                    #\"TomJerryDoodles/archive/tom_and_jerry/tom_and_jerry_edge_detected/tom_jerry_1_edge_detected\"]"
   ]
  },
  {
   "cell_type": "code",
   "execution_count": 7,
   "metadata": {},
   "outputs": [],
   "source": [
    "def loadImage(inputImagePath, outputImagePath, image_shape, isRGB):\n",
    "    # Load the input image\n",
    "    inputImage = Image.open(inputImagePath)\n",
    "    if not isRGB:\n",
    "        inputImage = inputImage.convert('L')  # Convert to grayscale if not RGB\n",
    "    inputImage = inputImage.resize(image_shape)\n",
    "    inputImage = np.array(inputImage)\n",
    "\n",
    "    # Load the output image (label)\n",
    "    outputImage = Image.open(outputImagePath)\n",
    "    outputImage = outputImage.resize(image_shape)\n",
    "    outputImage = np.array(outputImage)\n",
    "\n",
    "    return inputImage, outputImage\n"
   ]
  },
  {
   "cell_type": "code",
   "execution_count": 50,
   "metadata": {},
   "outputs": [
    {
     "ename": "IsADirectoryError",
     "evalue": "[Errno 21] Is a directory: '/Users/miranyildirim/Desktop/DIS/Neural/final/TomJerryDoodles/images_to_display/tom edge detected'",
     "output_type": "error",
     "traceback": [
      "\u001b[0;31m---------------------------------------------------------------------------\u001b[0m",
      "\u001b[0;31mIsADirectoryError\u001b[0m                         Traceback (most recent call last)",
      "\u001b[1;32m/Users/miranyildirim/Desktop/DIS/Neural/final/TomJerryDoodles/src/DisplayModels.ipynb Cell 8\u001b[0m line \u001b[0;36m1\n\u001b[1;32m     <a href='vscode-notebook-cell:/Users/miranyildirim/Desktop/DIS/Neural/final/TomJerryDoodles/src/DisplayModels.ipynb#X13sZmlsZQ%3D%3D?line=9'>10</a>\u001b[0m inputImagePathJerry \u001b[39m=\u001b[39m \u001b[39m'\u001b[39m\u001b[39m/Users/miranyildirim/Desktop/DIS/Neural/final/TomJerryDoodles/images_to_display/jerry edge detected\u001b[39m\u001b[39m'\u001b[39m \n\u001b[1;32m     <a href='vscode-notebook-cell:/Users/miranyildirim/Desktop/DIS/Neural/final/TomJerryDoodles/src/DisplayModels.ipynb#X13sZmlsZQ%3D%3D?line=10'>11</a>\u001b[0m outputImagePathJerry \u001b[39m=\u001b[39m \u001b[39m'\u001b[39m\u001b[39m/Users/miranyildirim/Desktop/DIS/Neural/final/TomJerryDoodles/images_to_display/jerry\u001b[39m\u001b[39m'\u001b[39m\n\u001b[0;32m---> <a href='vscode-notebook-cell:/Users/miranyildirim/Desktop/DIS/Neural/final/TomJerryDoodles/src/DisplayModels.ipynb#X13sZmlsZQ%3D%3D?line=12'>13</a>\u001b[0m inputImageTom, imageLabelTom \u001b[39m=\u001b[39m loadImage(inputImagePathTom, outputImagePathTom, personal_image_shape, isRGB\u001b[39m=\u001b[39;49m\u001b[39mFalse\u001b[39;49;00m)\n\u001b[1;32m     <a href='vscode-notebook-cell:/Users/miranyildirim/Desktop/DIS/Neural/final/TomJerryDoodles/src/DisplayModels.ipynb#X13sZmlsZQ%3D%3D?line=13'>14</a>\u001b[0m inputImageJerry, imageLabelJerry \u001b[39m=\u001b[39m loadImage(inputImagePathJerry, outputImagePathJerry, personal_image_shape, isRGB\u001b[39m=\u001b[39m\u001b[39mFalse\u001b[39;00m)\n\u001b[1;32m     <a href='vscode-notebook-cell:/Users/miranyildirim/Desktop/DIS/Neural/final/TomJerryDoodles/src/DisplayModels.ipynb#X13sZmlsZQ%3D%3D?line=15'>16</a>\u001b[0m inputImages\u001b[39m.\u001b[39mappend(inputImageTom)\n",
      "\u001b[1;32m/Users/miranyildirim/Desktop/DIS/Neural/final/TomJerryDoodles/src/DisplayModels.ipynb Cell 8\u001b[0m line \u001b[0;36m3\n\u001b[1;32m      <a href='vscode-notebook-cell:/Users/miranyildirim/Desktop/DIS/Neural/final/TomJerryDoodles/src/DisplayModels.ipynb#X13sZmlsZQ%3D%3D?line=0'>1</a>\u001b[0m \u001b[39mdef\u001b[39;00m \u001b[39mloadImage\u001b[39m(inputImagePath, outputImagePath, image_shape, isRGB):\n\u001b[1;32m      <a href='vscode-notebook-cell:/Users/miranyildirim/Desktop/DIS/Neural/final/TomJerryDoodles/src/DisplayModels.ipynb#X13sZmlsZQ%3D%3D?line=1'>2</a>\u001b[0m     \u001b[39m# Load the input image\u001b[39;00m\n\u001b[0;32m----> <a href='vscode-notebook-cell:/Users/miranyildirim/Desktop/DIS/Neural/final/TomJerryDoodles/src/DisplayModels.ipynb#X13sZmlsZQ%3D%3D?line=2'>3</a>\u001b[0m     inputImage \u001b[39m=\u001b[39m Image\u001b[39m.\u001b[39;49mopen(inputImagePath)\n\u001b[1;32m      <a href='vscode-notebook-cell:/Users/miranyildirim/Desktop/DIS/Neural/final/TomJerryDoodles/src/DisplayModels.ipynb#X13sZmlsZQ%3D%3D?line=3'>4</a>\u001b[0m     \u001b[39mif\u001b[39;00m \u001b[39mnot\u001b[39;00m isRGB:\n\u001b[1;32m      <a href='vscode-notebook-cell:/Users/miranyildirim/Desktop/DIS/Neural/final/TomJerryDoodles/src/DisplayModels.ipynb#X13sZmlsZQ%3D%3D?line=4'>5</a>\u001b[0m         inputImage \u001b[39m=\u001b[39m inputImage\u001b[39m.\u001b[39mconvert(\u001b[39m'\u001b[39m\u001b[39mL\u001b[39m\u001b[39m'\u001b[39m)  \u001b[39m# Convert to grayscale if not RGB\u001b[39;00m\n",
      "File \u001b[0;32m~/miniconda3/lib/python3.11/site-packages/PIL/Image.py:3218\u001b[0m, in \u001b[0;36mopen\u001b[0;34m(fp, mode, formats)\u001b[0m\n\u001b[1;32m   3215\u001b[0m     filename \u001b[39m=\u001b[39m fp\n\u001b[1;32m   3217\u001b[0m \u001b[39mif\u001b[39;00m filename:\n\u001b[0;32m-> 3218\u001b[0m     fp \u001b[39m=\u001b[39m builtins\u001b[39m.\u001b[39;49mopen(filename, \u001b[39m\"\u001b[39;49m\u001b[39mrb\u001b[39;49m\u001b[39m\"\u001b[39;49m)\n\u001b[1;32m   3219\u001b[0m     exclusive_fp \u001b[39m=\u001b[39m \u001b[39mTrue\u001b[39;00m\n\u001b[1;32m   3221\u001b[0m \u001b[39mtry\u001b[39;00m:\n",
      "\u001b[0;31mIsADirectoryError\u001b[0m: [Errno 21] Is a directory: '/Users/miranyildirim/Desktop/DIS/Neural/final/TomJerryDoodles/images_to_display/tom edge detected'"
     ]
    }
   ],
   "source": [
    "# Initialize lists to store the images\n",
    "inputImages = []\n",
    "outputImages = []\n",
    "\n",
    "personal_image_shape = (140, 70)\n",
    "\n",
    "inputImagePathTom = '/Users/miranyildirim/Desktop/DIS/Neural/final/TomJerryDoodles/images_to_display/tom edge detected' \n",
    "outputImagePathTom = '/Users/miranyildirim/Desktop/DIS/Neural/final/TomJerryDoodles/images_to_display/tom'\n",
    "\n",
    "inputImagePathJerry = '/Users/miranyildirim/Desktop/DIS/Neural/final/TomJerryDoodles/images_to_display/jerry edge detected' \n",
    "outputImagePathJerry = '/Users/miranyildirim/Desktop/DIS/Neural/final/TomJerryDoodles/images_to_display/jerry'\n",
    "\n",
    "inputImageTom, imageLabelTom = loadImage(inputImagePathTom, outputImagePathTom, personal_image_shape, isRGB=False)\n",
    "inputImageJerry, imageLabelJerry = loadImage(inputImagePathJerry, outputImagePathJerry, personal_image_shape, isRGB=False)\n",
    "\n",
    "inputImages.append(inputImageTom)\n",
    "outputImages.append(imageLabelTom)\n",
    "inputImages.append(inputImageJerry)\n",
    "outputImages.append(imageLabelJerry)\n",
    "\n",
    "# Convert lists to numpy arrays\n",
    "inputImagesArray = np.array(inputImages)\n",
    "outputImagesArray = np.array(outputImages)\n"
   ]
  },
  {
   "cell_type": "code",
   "execution_count": null,
   "metadata": {},
   "outputs": [
    {
     "name": "stdout",
     "output_type": "stream",
     "text": [
      "Input Images Shape: (0,)\n",
      "Output Images Shape: (0,)\n"
     ]
    }
   ],
   "source": [
    "print(\"Input Images Shape:\", inputImagesArray.shape)\n",
    "print(\"Output Images Shape:\", outputImagesArray.shape)"
   ]
  },
  {
   "cell_type": "code",
   "execution_count": null,
   "metadata": {},
   "outputs": [],
   "source": []
  }
 ],
 "metadata": {
  "kernelspec": {
   "display_name": "base",
   "language": "python",
   "name": "python3"
  },
  "language_info": {
   "codemirror_mode": {
    "name": "ipython",
    "version": 3
   },
   "file_extension": ".py",
   "mimetype": "text/x-python",
   "name": "python",
   "nbconvert_exporter": "python",
   "pygments_lexer": "ipython3",
   "version": "3.11.4"
  }
 },
 "nbformat": 4,
 "nbformat_minor": 2
}
