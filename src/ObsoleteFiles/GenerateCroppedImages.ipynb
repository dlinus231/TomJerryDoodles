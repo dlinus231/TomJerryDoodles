{
 "cells": [
  {
   "cell_type": "code",
   "execution_count": 104,
   "metadata": {},
   "outputs": [
    {
     "name": "stdout",
     "output_type": "stream",
     "text": [
      "cwd /home/linus/WashUCoding/DIS Copenhagen/Neural Networks/TomJerryProject/src\n"
     ]
    },
    {
     "name": "stderr",
     "output_type": "stream",
     "text": [
      "Some weights of the model checkpoint at facebook/detr-resnet-50 were not used when initializing DetrForObjectDetection: ['model.backbone.conv_encoder.model.layer2.0.downsample.1.num_batches_tracked', 'model.backbone.conv_encoder.model.layer4.0.downsample.1.num_batches_tracked', 'model.backbone.conv_encoder.model.layer1.0.downsample.1.num_batches_tracked', 'model.backbone.conv_encoder.model.layer3.0.downsample.1.num_batches_tracked']\n",
      "- This IS expected if you are initializing DetrForObjectDetection from the checkpoint of a model trained on another task or with another architecture (e.g. initializing a BertForSequenceClassification model from a BertForPreTraining model).\n",
      "- This IS NOT expected if you are initializing DetrForObjectDetection from the checkpoint of a model that you expect to be exactly identical (initializing a BertForSequenceClassification model from a BertForSequenceClassification model).\n",
      "Could not find image processor class in the image processor config or the model config. Loading based on pattern matching with the model's feature extractor configuration.\n"
     ]
    }
   ],
   "source": [
    "from transformers import pipeline\n",
    "import os\n",
    "import numpy as np\n",
    "import matplotlib.pylab as plt\n",
    "import tensorflow as tf\n",
    "from tensorflow import keras\n",
    "import os\n",
    "from enum import Enum\n",
    "import matplotlib.pyplot as plt\n",
    "from PIL import Image\n",
    "import matplotlib.patches as patches\n",
    "import random\n",
    "from tqdm import tqdm\n",
    "import multiprocessing\n",
    "import time\n",
    "\n",
    "print(\"cwd\", os.getcwd())\n",
    "\n",
    "classifier = pipeline(model=\"facebook/detr-resnet-50\")"
   ]
  },
  {
   "cell_type": "code",
   "execution_count": 106,
   "metadata": {},
   "outputs": [],
   "source": [
    "base_path = \"../archive/tom_and_jerry/tom_and_jerry\"\n",
    "folders = [\"jerry\", \"tom\", \"tom_jerry_1\"]\n",
    "\n",
    "def process_images(image_list, result_list, folder): \n",
    "    # go over each image\n",
    "    for i in tqdm(range(10)): \n",
    "    # for i in tqdm(range(len(image_list))): \n",
    "        print(\"starting image\")\n",
    "        currFrame = image_list[i]\n",
    "        path_to_image = f\"{base_path}/{folder}/{currFrame}\"\n",
    "\n",
    "        im = Image.open(path_to_image)\n",
    "        res = classifier(im)\n",
    "\n",
    "        # if boxes were predicted, created cropped images from each box\n",
    "        if res: \n",
    "            boxes = []\n",
    "            for j in range(len(res)): \n",
    "                boxCoords = res[j][\"box\"][\"xmin\"], res[j][\"box\"][\"ymin\"], res[j][\"box\"][\"xmax\"], res[j][\"box\"][\"ymax\"]\n",
    "                boxes.append(boxCoords)\n",
    "            # draw the box\n",
    "            for j in range(len(boxes)): \n",
    "                xmin, ymin, xmax, ymax = boxes[j]\n",
    "                width, height = boxCoords[2]-boxCoords[0], boxCoords[3]-boxCoords[1]\n",
    "                croppedImage = im.crop((xmin, ymin, xmax, ymax))\n",
    "                result_list.append((folder, croppedImage))\n",
    "        print(\"finished with image\")"
   ]
  },
  {
   "cell_type": "code",
   "execution_count": 109,
   "metadata": {},
   "outputs": [
    {
     "name": "stdout",
     "output_type": "stream",
     "text": [
      "Thread 0 started\n"
     ]
    },
    {
     "name": "stdout",
     "output_type": "stream",
     "text": [
      "Thread 1 started\n",
      "Thread 2 started\n",
      "Thread 3 started\n",
      "Thread 4 started\n",
      "Thread 5 started\n",
      "Thread 6 started\n",
      "Thread 7 started\n"
     ]
    },
    {
     "ename": "KeyboardInterrupt",
     "evalue": "",
     "output_type": "error",
     "traceback": [
      "\u001b[0;31m---------------------------------------------------------------------------\u001b[0m",
      "\u001b[0;31mKeyboardInterrupt\u001b[0m                         Traceback (most recent call last)",
      "\u001b[1;32m/home/linus/WashUCoding/DIS Copenhagen/Neural Networks/TomJerryProject/src/GenerateCroppedImages.ipynb Cell 3\u001b[0m line \u001b[0;36m3\n\u001b[1;32m     <a href='vscode-notebook-cell:/home/linus/WashUCoding/DIS%20Copenhagen/Neural%20Networks/TomJerryProject/src/GenerateCroppedImages.ipynb#W1sZmlsZQ%3D%3D?line=27'>28</a>\u001b[0m \u001b[39m# Wait for all threads to finish\u001b[39;00m\n\u001b[1;32m     <a href='vscode-notebook-cell:/home/linus/WashUCoding/DIS%20Copenhagen/Neural%20Networks/TomJerryProject/src/GenerateCroppedImages.ipynb#W1sZmlsZQ%3D%3D?line=28'>29</a>\u001b[0m \u001b[39mfor\u001b[39;00m i, process \u001b[39min\u001b[39;00m \u001b[39menumerate\u001b[39m(process_list):\n\u001b[0;32m---> <a href='vscode-notebook-cell:/home/linus/WashUCoding/DIS%20Copenhagen/Neural%20Networks/TomJerryProject/src/GenerateCroppedImages.ipynb#W1sZmlsZQ%3D%3D?line=29'>30</a>\u001b[0m     process\u001b[39m.\u001b[39mjoin()\n\u001b[1;32m     <a href='vscode-notebook-cell:/home/linus/WashUCoding/DIS%20Copenhagen/Neural%20Networks/TomJerryProject/src/GenerateCroppedImages.ipynb#W1sZmlsZQ%3D%3D?line=30'>31</a>\u001b[0m     \u001b[39mprint\u001b[39m(\u001b[39m\"\u001b[39m\u001b[39mThread\u001b[39m\u001b[39m\"\u001b[39m, i, \u001b[39m\"\u001b[39m\u001b[39mjoined\u001b[39m\u001b[39m\"\u001b[39m)\n\u001b[1;32m     <a href='vscode-notebook-cell:/home/linus/WashUCoding/DIS%20Copenhagen/Neural%20Networks/TomJerryProject/src/GenerateCroppedImages.ipynb#W1sZmlsZQ%3D%3D?line=32'>33</a>\u001b[0m \u001b[39mprint\u001b[39m(\u001b[39m\"\u001b[39m\u001b[39mJoining complete\u001b[39m\u001b[39m\"\u001b[39m)\n",
      "File \u001b[0;32m~/anaconda3/lib/python3.11/multiprocessing/process.py:149\u001b[0m, in \u001b[0;36mBaseProcess.join\u001b[0;34m(self, timeout)\u001b[0m\n\u001b[1;32m    147\u001b[0m \u001b[39massert\u001b[39;00m \u001b[39mself\u001b[39m\u001b[39m.\u001b[39m_parent_pid \u001b[39m==\u001b[39m os\u001b[39m.\u001b[39mgetpid(), \u001b[39m'\u001b[39m\u001b[39mcan only join a child process\u001b[39m\u001b[39m'\u001b[39m\n\u001b[1;32m    148\u001b[0m \u001b[39massert\u001b[39;00m \u001b[39mself\u001b[39m\u001b[39m.\u001b[39m_popen \u001b[39mis\u001b[39;00m \u001b[39mnot\u001b[39;00m \u001b[39mNone\u001b[39;00m, \u001b[39m'\u001b[39m\u001b[39mcan only join a started process\u001b[39m\u001b[39m'\u001b[39m\n\u001b[0;32m--> 149\u001b[0m res \u001b[39m=\u001b[39m \u001b[39mself\u001b[39m\u001b[39m.\u001b[39m_popen\u001b[39m.\u001b[39mwait(timeout)\n\u001b[1;32m    150\u001b[0m \u001b[39mif\u001b[39;00m res \u001b[39mis\u001b[39;00m \u001b[39mnot\u001b[39;00m \u001b[39mNone\u001b[39;00m:\n\u001b[1;32m    151\u001b[0m     _children\u001b[39m.\u001b[39mdiscard(\u001b[39mself\u001b[39m)\n",
      "File \u001b[0;32m~/anaconda3/lib/python3.11/multiprocessing/popen_fork.py:43\u001b[0m, in \u001b[0;36mPopen.wait\u001b[0;34m(self, timeout)\u001b[0m\n\u001b[1;32m     41\u001b[0m             \u001b[39mreturn\u001b[39;00m \u001b[39mNone\u001b[39;00m\n\u001b[1;32m     42\u001b[0m     \u001b[39m# This shouldn't block if wait() returned successfully.\u001b[39;00m\n\u001b[0;32m---> 43\u001b[0m     \u001b[39mreturn\u001b[39;00m \u001b[39mself\u001b[39m\u001b[39m.\u001b[39mpoll(os\u001b[39m.\u001b[39mWNOHANG \u001b[39mif\u001b[39;00m timeout \u001b[39m==\u001b[39m \u001b[39m0.0\u001b[39m \u001b[39melse\u001b[39;00m \u001b[39m0\u001b[39m)\n\u001b[1;32m     44\u001b[0m \u001b[39mreturn\u001b[39;00m \u001b[39mself\u001b[39m\u001b[39m.\u001b[39mreturncode\n",
      "File \u001b[0;32m~/anaconda3/lib/python3.11/multiprocessing/popen_fork.py:27\u001b[0m, in \u001b[0;36mPopen.poll\u001b[0;34m(self, flag)\u001b[0m\n\u001b[1;32m     25\u001b[0m \u001b[39mif\u001b[39;00m \u001b[39mself\u001b[39m\u001b[39m.\u001b[39mreturncode \u001b[39mis\u001b[39;00m \u001b[39mNone\u001b[39;00m:\n\u001b[1;32m     26\u001b[0m     \u001b[39mtry\u001b[39;00m:\n\u001b[0;32m---> 27\u001b[0m         pid, sts \u001b[39m=\u001b[39m os\u001b[39m.\u001b[39mwaitpid(\u001b[39mself\u001b[39m\u001b[39m.\u001b[39mpid, flag)\n\u001b[1;32m     28\u001b[0m     \u001b[39mexcept\u001b[39;00m \u001b[39mOSError\u001b[39;00m:\n\u001b[1;32m     29\u001b[0m         \u001b[39m# Child process not yet created. See #1731717\u001b[39;00m\n\u001b[1;32m     30\u001b[0m         \u001b[39m# e.errno == errno.ECHILD == 10\u001b[39;00m\n\u001b[1;32m     31\u001b[0m         \u001b[39mreturn\u001b[39;00m \u001b[39mNone\u001b[39;00m\n",
      "\u001b[0;31mKeyboardInterrupt\u001b[0m: "
     ]
    }
   ],
   "source": [
    "# generate all cropped images\n",
    "croppedImages = []\n",
    "# go through each folder\n",
    "for folder in folders: \n",
    "    currentFolder = base_path + \"/\" + folder\n",
    "    pictures = os.listdir(currentFolder)\n",
    "\n",
    "    resultList = []\n",
    "    \n",
    "    # process_images(pictures, resultList, folder)\n",
    "    # croppedImages.extend(resultList)\n",
    "\n",
    "    num_threads = 8\n",
    "    process_list = []\n",
    "    results = [[] for _ in range(num_threads)]\n",
    "\n",
    "    # Split the list into 16 equal parts\n",
    "    split_images = np.array_split(pictures, num_threads)\n",
    "\n",
    "    # Create and start threads\n",
    "    for i in range(num_threads):\n",
    "        process = multiprocessing.Process(target=process_images, args=(split_images[i], results[i], folder))\n",
    "        process_list.append(process)\n",
    "        process.start()\n",
    "        # time.sleep(1)\n",
    "        print(\"Thread\", i, \"started\")\n",
    "\n",
    "    # Wait for all threads to finish\n",
    "    for i, process in enumerate(process_list):\n",
    "        process.join()\n",
    "        print(\"Thread\", i, \"joined\")\n",
    "\n",
    "    print(\"Joining complete\")\n",
    "    for result in results: \n",
    "        print(\"Extending result\")\n",
    "        croppedImages.extend(result)\n",
    "    print(\"COMPLETE\")"
   ]
  },
  {
   "cell_type": "code",
   "execution_count": 79,
   "metadata": {},
   "outputs": [
    {
     "name": "stdout",
     "output_type": "stream",
     "text": [
      "16\n"
     ]
    }
   ],
   "source": [
    "print(len(croppedImages))\n",
    "# for j in range(20): \n",
    "#     print(croppedImages[j].shape)"
   ]
  },
  {
   "cell_type": "code",
   "execution_count": 62,
   "metadata": {},
   "outputs": [],
   "source": [
    "# code found from: https://note.nkmk.me/en/python-pillow-add-margin-expand-canvas/\n",
    "def expand2square(pil_img, background_color):\n",
    "    width, height = pil_img.size\n",
    "    if width == height:\n",
    "        return pil_img\n",
    "    elif width > height:\n",
    "        result = Image.new(pil_img.mode, (width, width), background_color)\n",
    "        result.paste(pil_img, (0, (width - height) // 2))\n",
    "        return result\n",
    "    else:\n",
    "        result = Image.new(pil_img.mode, (height, height), background_color)\n",
    "        result.paste(pil_img, ((height - width) // 2, 0))\n",
    "        return result"
   ]
  },
  {
   "cell_type": "code",
   "execution_count": 80,
   "metadata": {},
   "outputs": [],
   "source": [
    "squarePaddedImgs = []\n",
    "for j in range(len(croppedImages)): \n",
    "    folder, image = croppedImages[j]\n",
    "    resizedImg = expand2square(image, (0, 0, 0))\n",
    "    squarePaddedImgs.append((folder, resizedImg))\n",
    "    \n",
    "\n",
    "# TODO: Retrieve original frame's name, and append an underscore, e.g. \"frame1035_1.jpg\"\n",
    "for j, folderImage in enumerate(squarePaddedImgs): \n",
    "    folder, image = folderImage\n",
    "    image = image.resize((256, 256))\n",
    "    image.save(f\"../ObjectDetectedDataset/{folder}{j}.jpg\")"
   ]
  },
  {
   "cell_type": "code",
   "execution_count": null,
   "metadata": {},
   "outputs": [],
   "source": [
    "# COPY IN CASE I BREAK IT WITH PARALLELIZATION\n",
    "base_path = \"../archive/tom_and_jerry/tom_and_jerry\"\n",
    "folders = [\"jerry\", \"tom\", \"tom_jerry_1\"]\n",
    "\n",
    "def process_images(image_list, result_list, folder): \n",
    "    # go over each image\n",
    "    # for i in range(10): \n",
    "    for i in tqdm(range(len(image_list))): \n",
    "        currFrame = image_list[i]\n",
    "        path_to_image = f\"{base_path}/{folder}/{currFrame}\"\n",
    "\n",
    "        im = Image.open(path_to_image)\n",
    "        res = classifier(im)\n",
    "        # print(\"currentImage:\", currFrame)\n",
    "        # if boxes were predicted, created cropped images from each box\n",
    "        if res: \n",
    "            boxes = []\n",
    "            for j in range(len(res)): \n",
    "                # print(res[j][\"box\"])\n",
    "                boxCoords = res[j][\"box\"][\"xmin\"], res[j][\"box\"][\"ymin\"], res[j][\"box\"][\"xmax\"], res[j][\"box\"][\"ymax\"]\n",
    "                boxes.append(boxCoords)\n",
    "            # print(\"All coords:\", boxes)\n",
    "\n",
    "            # fig, axis = plt.subplots()\n",
    "            # axis.imshow(im)\n",
    "\n",
    "            # draw the box\n",
    "            for j in range(len(boxes)): \n",
    "                xmin, ymin, xmax, ymax = boxes[j]\n",
    "                width, height = boxCoords[2]-boxCoords[0], boxCoords[3]-boxCoords[1]\n",
    "                croppedImage = im.crop((xmin, ymin, xmax, ymax))\n",
    "                result_list.append((folder, croppedImage))\n",
    "                \n",
    "                # croppedImage.show()\n",
    "                # rect = patches.Rectangle((xmin, ymin), width, height, linewidth=1, edgecolor=\"w\", facecolor=\"none\", label=\"test\")\n",
    "\n",
    "                # axis.add_patch(rect)"
   ]
  }
 ],
 "metadata": {
  "kernelspec": {
   "display_name": "base",
   "language": "python",
   "name": "python3"
  },
  "language_info": {
   "codemirror_mode": {
    "name": "ipython",
    "version": 3
   },
   "file_extension": ".py",
   "mimetype": "text/x-python",
   "name": "python",
   "nbconvert_exporter": "python",
   "pygments_lexer": "ipython3",
   "version": "3.11.5"
  }
 },
 "nbformat": 4,
 "nbformat_minor": 2
}
