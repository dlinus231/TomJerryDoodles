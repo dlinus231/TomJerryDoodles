{
 "cells": [
  {
   "cell_type": "code",
   "execution_count": 9,
   "metadata": {},
   "outputs": [],
   "source": [
    "import numpy as np\n",
    "import matplotlib.pylab as plt\n",
    "import tensorflow as tf\n",
    "from tensorflow import keras\n",
    "from tensorflow.keras.models import Sequential, Model\n",
    "from tensorflow.keras.layers import Dense, Dropout, Flatten, Reshape\n",
    "from tensorflow.keras.layers import Conv2D, MaxPooling2D, LeakyReLU\n",
    "from tensorflow.keras import layers, losses\n",
    "from tensorflow.keras.optimizers import Adam\n",
    "import os\n",
    "from tensorflow.keras.preprocessing.image import ImageDataGenerator\n",
    "from enum import Enum\n",
    "import PIL\n",
    "import PIL.Image\n",
    "import matplotlib.pyplot as plt\n",
    "from tensorflow.keras.callbacks import EarlyStopping \n",
    "from PIL import Image\n",
    "import random\n",
    "\n",
    "# val_ds = tf.keras.utils.image_dataset_from_directory(\n",
    "#   \"TomJerryProject/archive/tom_and_jerry/tom_and_jerry/\",\n",
    "#   validation_split=0.2,\n",
    "#   subset=\"validation\",\n",
    "#   seed=123,\n",
    "#   image_size=(200, 400),\n",
    "#   batch_size=32)\n",
    "\n",
    "# loss, accuracy = model.evaluate(val_ds) \n",
    "\n",
    "# # Make predictions on the validation dataset\n",
    "# allImages = []\n",
    "# predicted_labels = []\n",
    "# true_labels = []\n",
    "\n",
    "# for images, labels in val_ds:\n",
    "#     allImages.extend(images)\n",
    "#     true_labels.extend(labels.numpy())\n",
    "#     predictions = model.predict(images)\n",
    "#     predicted_labels.extend(np.argmax(predictions, axis=1))\n",
    "\n",
    "# # allImages = np.array(allImages)\n",
    "\n",
    "# # Find mislabelled images\n",
    "# mislabelled_indices = [i for i in range(len(true_labels)) if true_labels[i] != predicted_labels[i]]\n",
    "# random.shuffle(mislabelled_indices)\n",
    "# # Plot mislabelled images with their incorrect labels\n",
    "# plt.figure(figsize=(12, 12))\n",
    "# for i, idx in enumerate(mislabelled_indices[:12]):  # Change the range to display more mislabelled images\n",
    "#     ax = plt.subplot(3, 4, i + 1)\n",
    "#     print(\"idx:\", idx, \"len(images):\", len(images))\n",
    "#     plt.imshow(allImages[idx].numpy().astype(\"uint8\"))\n",
    "#     plt.title(f\"True: {val_ds.class_names[true_labels[idx]]}\\nPredicted: {val_ds.class_names[predicted_labels[idx]]}\")\n",
    "#     plt.axis(\"off\")\n",
    "# plt.show()"
   ]
  },
  {
   "cell_type": "code",
   "execution_count": 23,
   "metadata": {},
   "outputs": [],
   "source": [
    "personal_image_shape = (50, 100)\n",
    "keras.saving.get_custom_objects().clear()\n",
    "\n",
    "@keras.saving.register_keras_serializable()\n",
    "class AutoencoderWithDense(Model):\n",
    "    def __init__(self, latent_dim, dropout_rate=0.2):\n",
    "        super(AutoencoderWithDense, self).__init__()\n",
    "        self.latent_dim = latent_dim   \n",
    "        self.encoder = tf.keras.Sequential([\n",
    "            layers.Flatten(),\n",
    "            layers.Dense(1024, activation=\"relu\"), # Added Dense\n",
    "            layers.Dropout(dropout_rate), \n",
    "            layers.Dense(512, activation=\"relu\"), # Added Dense\n",
    "            layers.Dropout(dropout_rate), \n",
    "            layers.Dense(latent_dim, activation='relu'),\n",
    "            ])\n",
    "        self.decoder = tf.keras.Sequential([\n",
    "\n",
    "            layers.Dense(512, activation=\"relu\"), # Added Dense\n",
    "            layers.Dropout(dropout_rate), \n",
    "            layers.Dense(1024, activation=\"relu\"), # Added Dense\n",
    "            layers.Dropout(dropout_rate), \n",
    "            layers.Dense(personal_image_shape[1] * personal_image_shape[0], activation='sigmoid'),\n",
    "            layers.Reshape((personal_image_shape[1], personal_image_shape[0])) # is reversed from other functions\n",
    "            # layers.Reshape((100, 200)) # is reversed from other functions\n",
    "            ])\n",
    "\n",
    "    def call(self, x):\n",
    "        encoded = self.encoder(x)\n",
    "        decoded = self.decoder(encoded)\n",
    "        return decoded"
   ]
  },
  {
   "cell_type": "code",
   "execution_count": 25,
   "metadata": {},
   "outputs": [
    {
     "name": "stdout",
     "output_type": "stream",
     "text": [
      "CurrentDir: /home/linus/WashUCoding/DIS Copenhagen/Neural Networks/TomJerryProject/src\n"
     ]
    },
    {
     "ename": "TypeError",
     "evalue": "Could not locate class 'AutoencoderWithDense'. Make sure custom classes are decorated with `@keras.saving.register_keras_serializable()`. Full object config: {'module': None, 'class_name': 'AutoencoderWithDense', 'config': {'latent_dim': 250}, 'registered_name': 'AutoencoderWithDense', 'build_config': {'input_shape': [None, 50, 100]}, 'compile_config': {'optimizer': 'adam', 'loss': {'module': 'keras.losses', 'class_name': 'MeanSquaredError', 'config': {'reduction': 'auto', 'name': 'mean_squared_error', 'fn': 'mean_squared_error'}, 'registered_name': None}, 'metrics': None, 'loss_weights': None, 'weighted_metrics': None, 'run_eagerly': None, 'steps_per_execution': None, 'jit_compile': None}}",
     "output_type": "error",
     "traceback": [
      "\u001b[0;31m---------------------------------------------------------------------------\u001b[0m",
      "\u001b[0;31mTypeError\u001b[0m                                 Traceback (most recent call last)",
      "\u001b[1;32m/home/linus/WashUCoding/DIS Copenhagen/Neural Networks/TomJerryProject/src/LoadModel.ipynb Cell 3\u001b[0m line \u001b[0;36m5\n\u001b[1;32m      <a href='vscode-notebook-cell:/home/linus/WashUCoding/DIS%20Copenhagen/Neural%20Networks/TomJerryProject/src/LoadModel.ipynb#W1sZmlsZQ%3D%3D?line=0'>1</a>\u001b[0m \u001b[39mprint\u001b[39m(\u001b[39m\"\u001b[39m\u001b[39mCurrentDir:\u001b[39m\u001b[39m\"\u001b[39m, os\u001b[39m.\u001b[39mgetcwd())\n\u001b[1;32m      <a href='vscode-notebook-cell:/home/linus/WashUCoding/DIS%20Copenhagen/Neural%20Networks/TomJerryProject/src/LoadModel.ipynb#W1sZmlsZQ%3D%3D?line=3'>4</a>\u001b[0m \u001b[39m# model = keras.models.load_model('../ExampleImageLoading/tom_jerry_classifier_compressed_5.keras')\u001b[39;00m\n\u001b[0;32m----> <a href='vscode-notebook-cell:/home/linus/WashUCoding/DIS%20Copenhagen/Neural%20Networks/TomJerryProject/src/LoadModel.ipynb#W1sZmlsZQ%3D%3D?line=4'>5</a>\u001b[0m model \u001b[39m=\u001b[39m keras\u001b[39m.\u001b[39mmodels\u001b[39m.\u001b[39mload_model(\u001b[39m'\u001b[39m\u001b[39mSavedModels/DenseModel1.keras\u001b[39m\u001b[39m'\u001b[39m)\n",
      "File \u001b[0;32m~/anaconda3/lib/python3.11/site-packages/keras/src/saving/saving_api.py:230\u001b[0m, in \u001b[0;36mload_model\u001b[0;34m(filepath, custom_objects, compile, safe_mode, **kwargs)\u001b[0m\n\u001b[1;32m    225\u001b[0m     \u001b[39mif\u001b[39;00m kwargs:\n\u001b[1;32m    226\u001b[0m         \u001b[39mraise\u001b[39;00m \u001b[39mValueError\u001b[39;00m(\n\u001b[1;32m    227\u001b[0m             \u001b[39m\"\u001b[39m\u001b[39mThe following argument(s) are not supported \u001b[39m\u001b[39m\"\u001b[39m\n\u001b[1;32m    228\u001b[0m             \u001b[39mf\u001b[39m\u001b[39m\"\u001b[39m\u001b[39mwith the native Keras format: \u001b[39m\u001b[39m{\u001b[39;00m\u001b[39mlist\u001b[39m(kwargs\u001b[39m.\u001b[39mkeys())\u001b[39m}\u001b[39;00m\u001b[39m\"\u001b[39m\n\u001b[1;32m    229\u001b[0m         )\n\u001b[0;32m--> 230\u001b[0m     \u001b[39mreturn\u001b[39;00m saving_lib\u001b[39m.\u001b[39mload_model(\n\u001b[1;32m    231\u001b[0m         filepath,\n\u001b[1;32m    232\u001b[0m         custom_objects\u001b[39m=\u001b[39mcustom_objects,\n\u001b[1;32m    233\u001b[0m         \u001b[39mcompile\u001b[39m\u001b[39m=\u001b[39m\u001b[39mcompile\u001b[39m,\n\u001b[1;32m    234\u001b[0m         safe_mode\u001b[39m=\u001b[39msafe_mode,\n\u001b[1;32m    235\u001b[0m     )\n\u001b[1;32m    237\u001b[0m \u001b[39m# Legacy case.\u001b[39;00m\n\u001b[1;32m    238\u001b[0m \u001b[39mreturn\u001b[39;00m legacy_sm_saving_lib\u001b[39m.\u001b[39mload_model(\n\u001b[1;32m    239\u001b[0m     filepath, custom_objects\u001b[39m=\u001b[39mcustom_objects, \u001b[39mcompile\u001b[39m\u001b[39m=\u001b[39m\u001b[39mcompile\u001b[39m, \u001b[39m*\u001b[39m\u001b[39m*\u001b[39mkwargs\n\u001b[1;32m    240\u001b[0m )\n",
      "File \u001b[0;32m~/anaconda3/lib/python3.11/site-packages/keras/src/saving/saving_lib.py:275\u001b[0m, in \u001b[0;36mload_model\u001b[0;34m(filepath, custom_objects, compile, safe_mode)\u001b[0m\n\u001b[1;32m    272\u001b[0m             asset_store\u001b[39m.\u001b[39mclose()\n\u001b[1;32m    274\u001b[0m \u001b[39mexcept\u001b[39;00m \u001b[39mException\u001b[39;00m \u001b[39mas\u001b[39;00m e:\n\u001b[0;32m--> 275\u001b[0m     \u001b[39mraise\u001b[39;00m e\n\u001b[1;32m    276\u001b[0m \u001b[39melse\u001b[39;00m:\n\u001b[1;32m    277\u001b[0m     \u001b[39mreturn\u001b[39;00m model\n",
      "File \u001b[0;32m~/anaconda3/lib/python3.11/site-packages/keras/src/saving/saving_lib.py:240\u001b[0m, in \u001b[0;36mload_model\u001b[0;34m(filepath, custom_objects, compile, safe_mode)\u001b[0m\n\u001b[1;32m    238\u001b[0m \u001b[39m# Construct the model from the configuration file in the archive.\u001b[39;00m\n\u001b[1;32m    239\u001b[0m \u001b[39mwith\u001b[39;00m ObjectSharingScope():\n\u001b[0;32m--> 240\u001b[0m     model \u001b[39m=\u001b[39m deserialize_keras_object(\n\u001b[1;32m    241\u001b[0m         config_dict, custom_objects, safe_mode\u001b[39m=\u001b[39msafe_mode\n\u001b[1;32m    242\u001b[0m     )\n\u001b[1;32m    244\u001b[0m all_filenames \u001b[39m=\u001b[39m zf\u001b[39m.\u001b[39mnamelist()\n\u001b[1;32m    245\u001b[0m \u001b[39mif\u001b[39;00m _VARS_FNAME \u001b[39m+\u001b[39m \u001b[39m\"\u001b[39m\u001b[39m.h5\u001b[39m\u001b[39m\"\u001b[39m \u001b[39min\u001b[39;00m all_filenames:\n",
      "File \u001b[0;32m~/anaconda3/lib/python3.11/site-packages/keras/src/saving/serialization_lib.py:681\u001b[0m, in \u001b[0;36mdeserialize_keras_object\u001b[0;34m(config, custom_objects, safe_mode, **kwargs)\u001b[0m\n\u001b[1;32m    678\u001b[0m     \u001b[39mif\u001b[39;00m obj \u001b[39mis\u001b[39;00m \u001b[39mnot\u001b[39;00m \u001b[39mNone\u001b[39;00m:\n\u001b[1;32m    679\u001b[0m         \u001b[39mreturn\u001b[39;00m obj\n\u001b[0;32m--> 681\u001b[0m \u001b[39mcls\u001b[39m \u001b[39m=\u001b[39m _retrieve_class_or_fn(\n\u001b[1;32m    682\u001b[0m     class_name,\n\u001b[1;32m    683\u001b[0m     registered_name,\n\u001b[1;32m    684\u001b[0m     module,\n\u001b[1;32m    685\u001b[0m     obj_type\u001b[39m=\u001b[39m\u001b[39m\"\u001b[39m\u001b[39mclass\u001b[39m\u001b[39m\"\u001b[39m,\n\u001b[1;32m    686\u001b[0m     full_config\u001b[39m=\u001b[39mconfig,\n\u001b[1;32m    687\u001b[0m     custom_objects\u001b[39m=\u001b[39mcustom_objects,\n\u001b[1;32m    688\u001b[0m )\n\u001b[1;32m    690\u001b[0m \u001b[39mif\u001b[39;00m \u001b[39misinstance\u001b[39m(\u001b[39mcls\u001b[39m, types\u001b[39m.\u001b[39mFunctionType):\n\u001b[1;32m    691\u001b[0m     \u001b[39mreturn\u001b[39;00m \u001b[39mcls\u001b[39m\n",
      "File \u001b[0;32m~/anaconda3/lib/python3.11/site-packages/keras/src/saving/serialization_lib.py:792\u001b[0m, in \u001b[0;36m_retrieve_class_or_fn\u001b[0;34m(name, registered_name, module, obj_type, full_config, custom_objects)\u001b[0m\n\u001b[1;32m    789\u001b[0m     \u001b[39mif\u001b[39;00m obj \u001b[39mis\u001b[39;00m \u001b[39mnot\u001b[39;00m \u001b[39mNone\u001b[39;00m:\n\u001b[1;32m    790\u001b[0m         \u001b[39mreturn\u001b[39;00m obj\n\u001b[0;32m--> 792\u001b[0m \u001b[39mraise\u001b[39;00m \u001b[39mTypeError\u001b[39;00m(\n\u001b[1;32m    793\u001b[0m     \u001b[39mf\u001b[39m\u001b[39m\"\u001b[39m\u001b[39mCould not locate \u001b[39m\u001b[39m{\u001b[39;00mobj_type\u001b[39m}\u001b[39;00m\u001b[39m \u001b[39m\u001b[39m'\u001b[39m\u001b[39m{\u001b[39;00mname\u001b[39m}\u001b[39;00m\u001b[39m'\u001b[39m\u001b[39m. \u001b[39m\u001b[39m\"\u001b[39m\n\u001b[1;32m    794\u001b[0m     \u001b[39m\"\u001b[39m\u001b[39mMake sure custom classes are decorated with \u001b[39m\u001b[39m\"\u001b[39m\n\u001b[1;32m    795\u001b[0m     \u001b[39m\"\u001b[39m\u001b[39m`@keras.saving.register_keras_serializable()`. \u001b[39m\u001b[39m\"\u001b[39m\n\u001b[1;32m    796\u001b[0m     \u001b[39mf\u001b[39m\u001b[39m\"\u001b[39m\u001b[39mFull object config: \u001b[39m\u001b[39m{\u001b[39;00mfull_config\u001b[39m}\u001b[39;00m\u001b[39m\"\u001b[39m\n\u001b[1;32m    797\u001b[0m )\n",
      "\u001b[0;31mTypeError\u001b[0m: Could not locate class 'AutoencoderWithDense'. Make sure custom classes are decorated with `@keras.saving.register_keras_serializable()`. Full object config: {'module': None, 'class_name': 'AutoencoderWithDense', 'config': {'latent_dim': 250}, 'registered_name': 'AutoencoderWithDense', 'build_config': {'input_shape': [None, 50, 100]}, 'compile_config': {'optimizer': 'adam', 'loss': {'module': 'keras.losses', 'class_name': 'MeanSquaredError', 'config': {'reduction': 'auto', 'name': 'mean_squared_error', 'fn': 'mean_squared_error'}, 'registered_name': None}, 'metrics': None, 'loss_weights': None, 'weighted_metrics': None, 'run_eagerly': None, 'steps_per_execution': None, 'jit_compile': None}}"
     ]
    }
   ],
   "source": [
    "print(\"CurrentDir:\", os.getcwd())\n",
    "\n",
    "\n",
    "# model = keras.models.load_model('../ExampleImageLoading/tom_jerry_classifier_compressed_5.keras')\n",
    "model = keras.models.load_model('SavedModels/DenseModel1.keras')\n",
    "# model = keras.models.load_weight('SavedModels/DenseModel1.keras')"
   ]
  },
  {
   "cell_type": "code",
   "execution_count": null,
   "metadata": {},
   "outputs": [],
   "source": []
  }
 ],
 "metadata": {
  "kernelspec": {
   "display_name": "base",
   "language": "python",
   "name": "python3"
  },
  "language_info": {
   "codemirror_mode": {
    "name": "ipython",
    "version": 3
   },
   "file_extension": ".py",
   "mimetype": "text/x-python",
   "name": "python",
   "nbconvert_exporter": "python",
   "pygments_lexer": "ipython3",
   "version": "3.11.5"
  }
 },
 "nbformat": 4,
 "nbformat_minor": 2
}
